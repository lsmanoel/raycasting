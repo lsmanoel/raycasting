{
  "nbformat": 4,
  "nbformat_minor": 0,
  "metadata": {
    "colab": {
      "name": "raycasting.ipynb",
      "version": "0.3.2",
      "provenance": [],
      "collapsed_sections": [],
      "include_colab_link": true
    },
    "kernelspec": {
      "name": "python3",
      "display_name": "Python 3"
    }
  },
  "cells": [
    {
      "cell_type": "markdown",
      "metadata": {
        "id": "view-in-github",
        "colab_type": "text"
      },
      "source": [
        "<a href=\"https://colab.research.google.com/github/lsmanoel/raycasting/blob/master/raycasting.ipynb\" target=\"_parent\"><img src=\"https://colab.research.google.com/assets/colab-badge.svg\" alt=\"Open In Colab\"/></a>"
      ]
    },
    {
      "metadata": {
        "id": "BNyB2a5F7gqR",
        "colab_type": "text"
      },
      "cell_type": "markdown",
      "source": [
        "# Raycasting\n",
        "Uma adaptacão do tutorial [Lode's Computer Graphics Tutorial\n",
        "Raycasting](https://lodev.org/cgtutor/raycasting.html)\n",
        "\n",
        "O Raycasting é uma técnica para dar uma perspectiva 3D para mapas inicialmente criados em 2D. Essa técnica possui um custo computacional muito pequeno pois é necessário apenas um cálculo simples para processar cada linha vertical presente na tela.\n",
        "\n",
        "A ideia básica do Raycasting consiste que o mapa é uma grade de quadrados 2D (unidades de mapa) e cada um desses quadrados pode assumir um valor 0 para onde não há paredes e um valor positivo para representar a parede.\n",
        "\n",
        "![alt text](https://lodev.org/cgtutor/images/raycastgrid.gif)\n",
        "\n",
        "Tendo em vista o mapa 2D, para cada pixel contido dentro do campo de visão do observador, há uma linha que liga esse pixel ao ponto onde se localiza o observador. Essas linhas se expandem pelo mapa 2D até atingir um quadrado com valor diferente de zero representando uma parede. Dessa forma a altura da parede é calculada em função do comprimento dessa linha. Essa linha é denominada de **Ray**.\n",
        "\n",
        "Para que as  Rays possam encontrar as paredes mais próximas á visão do observador, é necessário verificar a colisão das linhas com a parede começando pelos pontos mais próximos ao observador. Quando a colisão ocorre, a distância entre o observador e a parede será proporcional ao número de iterações ocorridas no rastreio da colisão entre as Rays e a parede. \n",
        "\n",
        "Existem algumas variedades de forma de representar a direção do observador. Uma forma simples de representar é considerando que a direção, assim como a posição do observador, são pares de coordenadas X e Y. Se for traçada uma Ray na direção no qual o observador estiver olhando, originando da posição do observador, cada ponto da da Ray será a soma do vetor posição com um múltiplo do vetor de direção.\n",
        "\n",
        "Um terceiro vetor necessário além do vetores de posição e direção é o vetor que define o plano da câmera. Esse vetor é sempre perpendicular ao vetor direção e representa a superfície da tela do computador.\n",
        "\n",
        "![alt text](https://lodev.org/cgtutor/images/raycastingcamera.gif)\n",
        "\n",
        "Na imagem acima é possível observar um ponto verde representando a posição do observador. Saindo desse ponto uma linha preta representa o vetor direção. E perpendicular a linha preta uma linha roxa representa o vetor que define o plano da câmera. Quando o observador rotaciona a direção para qual está olhando, todos os vetores rotacionam juntos. Para efetuar a rotação de um vetor basta fazer uma multiplicação vetorial desse com a matriz de rotação:\n",
        "\n",
        "$$\n",
        "\\left[\n",
        "\\begin{array}{c}\n",
        "x_{new} \\\\\n",
        "y_{new}\n",
        "\\end{array}\n",
        "\\right]\n",
        "=\n",
        "\\left[\n",
        "\\begin{array}{cc}\n",
        "\\cos(\\theta)   & -\\sin(\\theta)  \\\\\n",
        "\\sin(\\theta)  & \\cos(\\theta)\n",
        "\\end{array}\n",
        "\\right]\n",
        "*\n",
        "\\left[\n",
        "\\begin{array}{c}\n",
        "x \\\\\n",
        "y\n",
        "\\end{array}\n",
        "\\right]\n",
        "$$\n",
        "\n",
        "![alt text](https://lodev.org/cgtutor/images/raycastingcamerarotate.gif)\n",
        "\n"
      ]
    },
    {
      "metadata": {
        "id": "IdgbRIbLmDWK",
        "colab_type": "text"
      },
      "cell_type": "markdown",
      "source": [
        "# Algorítimo DDA\n",
        "\n",
        "Como na procura por colisões o computador é limitado a dar passos discretos durante as iterações, passos grandes podem gerar um problema como demonstrado na figura abaixo, onde cada ponto vermelho é a posição ao longo de uma das Rays onde é verificado se há uma colisão.\n",
        "\n",
        "![alt text](https://lodev.org/cgtutor/images/raycastmiss.gif)\n",
        "\n",
        "Trabalhar com um passo menor ajudaria a minimizar problema mas demandaria uma carga computacional maior.\n",
        "\n",
        "![alt text](https://lodev.org/cgtutor/images/raycastmiss2.gif)\n",
        "\n",
        "A melhor solucão seria utilizar um passo variável onde a verificação é feita nas extremidades de cada unidade quadrada do mapa. O algorítimo [DDA \"Digital Differential Analysis\"](https://en.wikipedia.org/wiki/Digital_differential_analyzer_(graphics_algorithm)) permite fazer isso.\n",
        "\n",
        "![alt text](https://lodev.org/cgtutor/images/raycasthit.gif)\n",
        "\n",
        "Os pontos da Ray são representados por valores de ponto flutuante e podem indicar em qual quadrado a colisão ocorre.\n",
        "Na figura abaixo, **sideDistX** e **sideDistY** são as distâncias iniciais que as Rays se propagam da posicão do abservador até a primeira lateral de unidade de mapa.  As variáveis **deltaDistX** e **deltaDistY** é a distância entre as demais laterais das unidades do mapa.\n",
        "\n",
        "![alt text](https://lodev.org/cgtutor/images/raycastdelta.gif)\n",
        "\n",
        "Essas variáveis são calculadas por meio de uma derivacão geométrica utilizando Pitágoras:\n",
        "\n",
        "$$deltaDistX = \\sqrt{1 + \\frac{rayDirY²}{rayDirX²}} = abs(\\frac{1}{rayDirX})$$\n",
        "\n",
        "$$deltaDistY = \\sqrt{1 + \\frac{rayDirX²}{rayDirY²}} = abs(\\frac{1}{rayDirY})$$\n",
        "\n",
        "Para que as Rays sejam traçadas em busca de obstáculos no mapa, inicialmente é calculado as primeiras distâncias **sideDistX** e **sideDistY**. Se a direção da Ray for negativa, o passo stepX ou stepY serão -1, do contrário 1. Inicialmente é calculado os valores iniciais de sideDistX e sideDistY.\n",
        "\n",
        "```Python\n",
        "# calculate step and initial sideDist\n",
        "\n",
        "if rayDirX < 0:\n",
        "        stepX = -1\n",
        "        sideDistX = (posX - mapX)*deltaDistX\n",
        "else:\n",
        "        stepX = 1\n",
        "        sideDistX = (mapX + 1.0 - posX)*deltaDistX\n",
        "\n",
        "if rayDirY < 0:\n",
        "        stepY = -1\n",
        "        sideDistY = (posY - mapY) * deltaDistY\n",
        "else:\n",
        "        stepY = 1\n",
        "        sideDistY = (mapY + 1.0 - posY) * deltaDistY\n",
        "```\n",
        "\n",
        "Após o cálculo do valor inicial, a cada iteracão o sideDistX e sideDistY será incrementando em funcão de deltaDistX e deltaDistY. Quando uma Ray atingir uma parede, as iteracões dessa Ray terminam e o código abaixo identifica em qual parede e o lado (side) ocorreu a colisão da Ray: \n",
        "\n",
        "```Python\n",
        "# Perform DDA\n",
        "\n",
        "while hit == 0:\n",
        "        # Jump to next map square, or in x-dir, or y-dir\n",
        "        if sideDistX < sideDistY:\n",
        "                sideDistX += deltaDistX\n",
        "                mapX += stepX\n",
        "                side = 0\n",
        "        else:\n",
        "                sideDistY += deltaDistY\n",
        "                mapY += stepY\n",
        "                side = 1\n",
        "\n",
        "        # Check if ray has hit a wall\n",
        "        if worldMap[mapX][mapY] > 0: \n",
        "                hit = 1            \n",
        "```\n",
        "\n",
        "Dessa forma a distância é calculada por meio do algorítimo DDA.\n",
        "\n"
      ]
    },
    {
      "metadata": {
        "id": "_NWkxQxFDLC5",
        "colab_type": "text"
      },
      "cell_type": "markdown",
      "source": [
        "# Cálculo da distância de cada parede\n",
        "\n",
        "Após a processamento da DDA, a distância entre o observador e a parede deve ser calculada para que assim a altura da parede possa ser estimada.\n",
        "\n",
        "\n",
        "```Python\n",
        "# Calculate distance projected on camera direction \n",
        "# (Euclidean distance will give fisheye effect!)\n",
        "\n",
        "if side == 0: \n",
        "        perpWallDist = (mapX-posX+(1-stepX)/2)/rayDirX\n",
        "else:\n",
        "        perpWallDist = (mapY-posY+(1-stepY)/2)/rayDirY\n",
        "```\n",
        "Após o cálculo da distância, a altura da parede pode ser calculada:\n",
        "\n",
        "```Python\n",
        "# Calculate height of line to draw on screen\n",
        "lineHeight = h//perpWallDist\n",
        "\n",
        "# Calculate lowest and highest pixel to fill in current stripe\n",
        "drawStart = -lineHeight//2+h//2\n",
        "if drawStart < 0:\n",
        "        drawStart = 0\n",
        "\n",
        "drawEnd = lineHeight//2+h//2\n",
        "if drawEnd >= h:\n",
        "        drawEnd = h - 1\n",
        "```\n",
        "\n",
        "\n",
        "      "
      ]
    },
    {
      "metadata": {
        "id": "XoiXanavN0bB",
        "colab_type": "text"
      },
      "cell_type": "markdown",
      "source": [
        "# Raycaster sem textura\n",
        "\n",
        "Como dito anteriormente, o mapa é uma matriz de duas dimensões onde o valor zero representa espacos onde não há paredes e o valores diferentes de zero podem representar paredes de diferentes cores e texturas."
      ]
    },
    {
      "metadata": {
        "id": "UP6G_BdB61nK",
        "colab_type": "code",
        "outputId": "966b3b51-2bd5-43e5-9e1f-7b2d456c4b36",
        "colab": {
          "base_uri": "https://localhost:8080/",
          "height": 1041
        }
      },
      "cell_type": "code",
      "source": [
        "import numpy as np\n",
        "import matplotlib as mpl\n",
        "import matplotlib.pyplot as plt\n",
        "% matplotlib inline\n",
        "\n",
        "\n",
        "wall_map = np.zeros((30, 30), dtype=int)\n",
        "wall_map[:, :2]=1\n",
        "wall_map[:2, :]=1\n",
        "wall_map[:, -2:]=1\n",
        "wall_map[-2:, :]=1\n",
        "\n",
        "wall_map[6:7, 6:7]=1\n",
        "wall_map[8:9, 6:7]=1\n",
        "wall_map[10:11, 6:7]=1\n",
        "wall_map[12:13, 6:7]=1\n",
        "wall_map[14:15, 6:7]=1\n",
        "wall_map[16:17, 6:7]=1\n",
        "wall_map[18:19, 6:7]=1\n",
        "wall_map[20:21, 6:7]=1\n",
        "wall_map[22:23, 6:7]=1\n",
        "wall_map[24:25, 6:7]=1\n",
        "\n",
        "\n",
        "wall_map[6:7, -7:-6]=1\n",
        "\n",
        "wall_map[-7:-6, -7:-6]=1\n",
        "\n",
        "wall_map[-7:-6, 6:7]=1\n",
        "\n",
        "cmap = mpl.colors.ListedColormap(['black','blue','red'])\n",
        "plt.figure(figsize=(9,9))\n",
        "plt.imshow(wall_map, cmap=cmap)\n",
        "plt.grid(False)\n",
        "plt.xticks([])\n",
        "plt.yticks([])\n",
        "plt.show()\n",
        "\n",
        "print(wall_map)\n"
      ],
      "execution_count": 34,
      "outputs": [
        {
          "output_type": "display_data",
          "data": {
            "image/png": "[encoded data removed]",
            "text/plain": [
              "<Figure size 648x648 with 1 Axes>"
            ]
          },
          "metadata": {
            "tags": []
          }
        },
        {
          "output_type": "stream",
          "text": [
            "[[1 1 1 1 1 1 1 1 1 1 1 1 1 1 1 1 1 1 1 1 1 1 1 1 1 1 1 1 1 1]\n",
            " [1 1 1 1 1 1 1 1 1 1 1 1 1 1 1 1 1 1 1 1 1 1 1 1 1 1 1 1 1 1]\n",
            " [1 1 0 0 0 0 0 0 0 0 0 0 0 0 0 0 0 0 0 0 0 0 0 0 0 0 0 0 1 1]\n",
            " [1 1 0 0 0 0 0 0 0 0 0 0 0 0 0 0 0 0 0 0 0 0 0 0 0 0 0 0 1 1]\n",
            " [1 1 0 0 0 0 0 0 0 0 0 0 0 0 0 0 0 0 0 0 0 0 0 0 0 0 0 0 1 1]\n",
            " [1 1 0 0 0 0 0 0 0 0 0 0 0 0 0 0 0 0 0 0 0 0 0 0 0 0 0 0 1 1]\n",
            " [1 1 0 0 0 0 1 0 0 0 0 0 0 0 0 0 0 0 0 0 0 0 0 1 0 0 0 0 1 1]\n",
            " [1 1 0 0 0 0 0 0 0 0 0 0 0 0 0 0 0 0 0 0 0 0 0 0 0 0 0 0 1 1]\n",
            " [1 1 0 0 0 0 1 0 0 0 0 0 0 0 0 0 0 0 0 0 0 0 0 0 0 0 0 0 1 1]\n",
            " [1 1 0 0 0 0 0 0 0 0 0 0 0 0 0 0 0 0 0 0 0 0 0 0 0 0 0 0 1 1]\n",
            " [1 1 0 0 0 0 1 0 0 0 0 0 0 0 0 0 0 0 0 0 0 0 0 0 0 0 0 0 1 1]\n",
            " [1 1 0 0 0 0 0 0 0 0 0 0 0 0 0 0 0 0 0 0 0 0 0 0 0 0 0 0 1 1]\n",
            " [1 1 0 0 0 0 1 0 0 0 0 0 0 0 0 0 0 0 0 0 0 0 0 0 0 0 0 0 1 1]\n",
            " [1 1 0 0 0 0 0 0 0 0 0 0 0 0 0 0 0 0 0 0 0 0 0 0 0 0 0 0 1 1]\n",
            " [1 1 0 0 0 0 1 0 0 0 0 0 0 0 0 0 0 0 0 0 0 0 0 0 0 0 0 0 1 1]\n",
            " [1 1 0 0 0 0 0 0 0 0 0 0 0 0 0 0 0 0 0 0 0 0 0 0 0 0 0 0 1 1]\n",
            " [1 1 0 0 0 0 1 0 0 0 0 0 0 0 0 0 0 0 0 0 0 0 0 0 0 0 0 0 1 1]\n",
            " [1 1 0 0 0 0 0 0 0 0 0 0 0 0 0 0 0 0 0 0 0 0 0 0 0 0 0 0 1 1]\n",
            " [1 1 0 0 0 0 1 0 0 0 0 0 0 0 0 0 0 0 0 0 0 0 0 0 0 0 0 0 1 1]\n",
            " [1 1 0 0 0 0 0 0 0 0 0 0 0 0 0 0 0 0 0 0 0 0 0 0 0 0 0 0 1 1]\n",
            " [1 1 0 0 0 0 1 0 0 0 0 0 0 0 0 0 0 0 0 0 0 0 0 0 0 0 0 0 1 1]\n",
            " [1 1 0 0 0 0 0 0 0 0 0 0 0 0 0 0 0 0 0 0 0 0 0 0 0 0 0 0 1 1]\n",
            " [1 1 0 0 0 0 1 0 0 0 0 0 0 0 0 0 0 0 0 0 0 0 0 0 0 0 0 0 1 1]\n",
            " [1 1 0 0 0 0 1 0 0 0 0 0 0 0 0 0 0 0 0 0 0 0 0 1 0 0 0 0 1 1]\n",
            " [1 1 0 0 0 0 1 0 0 0 0 0 0 0 0 0 0 0 0 0 0 0 0 0 0 0 0 0 1 1]\n",
            " [1 1 0 0 0 0 0 0 0 0 0 0 0 0 0 0 0 0 0 0 0 0 0 0 0 0 0 0 1 1]\n",
            " [1 1 0 0 0 0 0 0 0 0 0 0 0 0 0 0 0 0 0 0 0 0 0 0 0 0 0 0 1 1]\n",
            " [1 1 0 0 0 0 0 0 0 0 0 0 0 0 0 0 0 0 0 0 0 0 0 0 0 0 0 0 1 1]\n",
            " [1 1 1 1 1 1 1 1 1 1 1 1 1 1 1 1 1 1 1 1 1 1 1 1 1 1 1 1 1 1]\n",
            " [1 1 1 1 1 1 1 1 1 1 1 1 1 1 1 1 1 1 1 1 1 1 1 1 1 1 1 1 1 1]]\n"
          ],
          "name": "stdout"
        }
      ]
    },
    {
      "metadata": {
        "id": "cYWPvZ-fUTCt",
        "colab_type": "code",
        "colab": {}
      },
      "cell_type": "code",
      "source": [
        "import numpy as np\n",
        "import matplotlib as mpl\n",
        "import matplotlib.pyplot as plt\n",
        "% matplotlib inline\n",
        "\n",
        "class observer:\n",
        "  def __init__(self,\n",
        "               surface_map,\n",
        "               screen_size=None,\n",
        "               position=None,\n",
        "               direction=None,\n",
        "               cam_plane=None):\n",
        "    \n",
        "    self.surface_map = surface_map\n",
        "    \n",
        "    if screen_size == None:\n",
        "      self.screen_size = [340, 480]\n",
        "    else:\n",
        "      self.screen_size = screen_size\n",
        "    \n",
        "    self.screen = np.zeros(self.screen_size, dtype=int)\n",
        "    \n",
        "    if position == None:\n",
        "      self.position = [shape//2 for shape in surface_map.shape]\n",
        "    else:\n",
        "      self.position = position\n",
        "      \n",
        "    if direction == None:\n",
        "      self.direction = [-1, 0]\n",
        "    else:\n",
        "      self.direction = direction\n",
        "      \n",
        "    if cam_plane == None:\n",
        "      self.cam_plane = [0, 0.66]# ângulo de abertura: 2*atan(0.66/1.0)=66°\n",
        "    else: \n",
        "      self.cam_plane = cam_plane\n",
        "      \n",
        "    self._camera = [0, 0]\n",
        "    self._ray_pos = [0, 0]\n",
        "    self._ray_dir = [0, 0]\n",
        "    self._sideDist = [0, 0]\n",
        "    self._deltaDist = [0, 0]\n",
        "    self._perpWallDist = 1\n",
        "    self._step = [0, 0]\n",
        "    self._hit = False\n",
        "    self._side = False\n",
        "    self._lineHeight = 0\n",
        "    self._drawStart = 0\n",
        "    self._drawEnd = 0\n",
        "    self.cmap = mpl.colors.LinearSegmentedColormap.from_list('my_colormap',\n",
        "                                                        ['black','blue','red'],\n",
        "                                                        256)\n",
        "  \n",
        "  def plot_screen(self):\n",
        "    plt.figure(figsize=(9,9))\n",
        "    plt.imshow(self.screen, cmap=self.cmap)\n",
        "    plt.grid(False)\n",
        "    plt.xticks([])\n",
        "    plt.yticks([])\n",
        "    plt.show()\n",
        "\n",
        "  def draw_line(self, x):\n",
        "    if self._side is True:\n",
        "      self.screen[self._drawStart:self._drawEnd, x] = 5\n",
        "    else:\n",
        "      self.screen[self._drawStart:self._drawEnd, x] = 4.5\n",
        "    \n",
        "  def update_raycasting(self):\n",
        "    self.screen = np.zeros(self.screen_size, dtype=int)\n",
        "    for x in range(self.screen_size[1]):\n",
        "      #calculate ray position and direction\n",
        "      self._camera[0] = 2*x/self.screen_size[1] - 1\n",
        "      \n",
        "      self._ray_dir[0] = self.direction[0]+self.cam_plane[0]*self._camera[0]\n",
        "      if self._ray_dir[0] == 0:\n",
        "        self._ray_dir[0] += 0.0001\n",
        "      self._ray_dir[1] = self.direction[1]+self.cam_plane[1]*self._camera[0]\n",
        "      if self._ray_dir[1] == 0:\n",
        "        self._ray_dir[1] += 0.0001\n",
        "        \n",
        "      self._deltaDist = [abs(1/ray_dir) for ray_dir in self._ray_dir]\n",
        "      self._ray_pos = [pos for pos in self.position]\n",
        "      \n",
        "      for i, ray_dir in enumerate(self._ray_dir):\n",
        "        if ray_dir < 0:\n",
        "            self._step[i] = -1\n",
        "            self._sideDist[i] = (self.position[i]-self._ray_pos[i])*self._deltaDist[i]\n",
        "        else:\n",
        "            self._step[i] = 1\n",
        "            self._sideDist[i] = (self._ray_pos[i]+1.0-self.position[i])*self._deltaDist[i]\n",
        "      \n",
        "      # Perform DDA\n",
        "      self._hit = False\n",
        "      while self._hit is False:\n",
        "        # Jump to next map square, or in x-dir, or y-dir\n",
        "        if self._sideDist[0] < self._sideDist[1]:\n",
        "          self._sideDist[0] += self._deltaDist[0]\n",
        "          self._ray_pos[0] += self._step[0]\n",
        "          self._side = False\n",
        "        else:\n",
        "          self._sideDist[1] += self._deltaDist[1]\n",
        "          self._ray_pos[1] += self._step[1]\n",
        "          self._side = True\n",
        "\n",
        "        # Check if ray has hit a wall\n",
        "        if self.surface_map[self._ray_pos[0], self._ray_pos[1]] > 0: \n",
        "          self._hit = True\n",
        "          \n",
        "      # Calculate distance projected on camera direction \n",
        "      # (Euclidean distance will give fisheye effect!)\n",
        "      if self._side is False: \n",
        "        self._perpWallDist = (self._ray_pos[0]-self.position[0]+(1-self._step[0])/2)/self._ray_dir[0]\n",
        "      else:\n",
        "        self._perpWallDist = (self._ray_pos[1]-self.position[1]+(1-self._step[1])/2)/self._ray_dir[1]\n",
        "  \n",
        "      # Calculate height of line to draw on screen\n",
        "      self._lineHeight = 2*self.screen_size[0] /self._perpWallDist\n",
        "\n",
        "      # Calculate lowest and highest pixel to fill in current stripe\n",
        "      self._drawStart = int(-self._lineHeight//2 + self.screen_size[0]//2)\n",
        "      if self._drawStart < 0:\n",
        "        self._drawStart = 0\n",
        "\n",
        "      self._drawEnd = int(self._lineHeight//2+self.screen_size[0]//2)\n",
        "      if self._drawEnd >= self.screen_size[0]:\n",
        "        self._drawEnd = int(self.screen_size[0] - 1)\n",
        "        \n",
        "      self.draw_line(x)\n",
        "  \n",
        "  def forward(self, speed):\n",
        "    if self.surface_map[int(self.position[0] + self.direction[0]), int(self.position[1])] == 0:\n",
        "      self.position[0] += int(speed*self.direction[0])\n",
        "    if self.surface_map[int(self.position[0]), int(self.position[1] + self.direction[1])] == 0:\n",
        "      self.position[1] += int(speed*self.direction[1])\n",
        "      \n",
        "  @property\n",
        "  def position(self):\n",
        "    return self._position\n",
        "  \n",
        "  @position.setter\n",
        "  def position(self, value):\n",
        "    if value is not None:\n",
        "      self._position = [int(i) for i in value]\n",
        "\n",
        "  @property\n",
        "  def theta(self):\n",
        "    return self._theta\n",
        "\n",
        "  @theta.setter\n",
        "  def theta(self, value):\n",
        "    self._theta = value\n",
        "    new_dirX = self.direction[0]*np.cos(self._theta) - self.direction[1]*np.sin(self._theta)\n",
        "    new_dirY = self.direction[0]*np.sin(self._theta) + self.direction[1]*np.cos(self._theta)\n",
        "    self.direction = [new_dirX, new_dirY]\n",
        "    new_cam_planeX = self.cam_plane[0]*np.cos(self._theta) - self.cam_plane[1]*np.sin(self._theta)\n",
        "    new_cam_planeY = self.cam_plane[0]*np.sin(self._theta) + self.cam_plane[1]*np.cos(self._theta)\n",
        "    self.cam_plane = [new_cam_planeX, new_cam_planeY]\n",
        "    "
      ],
      "execution_count": 0,
      "outputs": []
    },
    {
      "metadata": {
        "id": "NGHCg7bSZDQG",
        "colab_type": "code",
        "outputId": "3f120eb7-e9b9-4e50-9931-d08443ee7a69",
        "colab": {
          "base_uri": "https://localhost:8080/",
          "height": 2370
        }
      },
      "cell_type": "code",
      "source": [
        "wall_map = np.zeros((30, 30), dtype=int)\n",
        "wall_map[:, :2]=1\n",
        "wall_map[:2, :]=1\n",
        "wall_map[:, -2:]=1\n",
        "wall_map[-2:, :]=1\n",
        "\n",
        "wall_map[6:7, 6:7]=1\n",
        "wall_map[8:9, 6:7]=1\n",
        "wall_map[10:11, 6:7]=1\n",
        "wall_map[12:13, 6:7]=1\n",
        "wall_map[14:15, 6:7]=1\n",
        "wall_map[16:17, 6:7]=1\n",
        "wall_map[18:19, 6:7]=1\n",
        "wall_map[20:21, 6:7]=1\n",
        "wall_map[22:23, 6:7]=1\n",
        "wall_map[24:25, 6:7]=1\n",
        "\n",
        "\n",
        "wall_map[6:7, -7:-6]=1\n",
        "\n",
        "wall_map[-7:-6, -7:-6]=1\n",
        "\n",
        "wall_map[-7:-6, 6:7]=1\n",
        "\n",
        "cmap = mpl.colors.ListedColormap(['black','blue','red'])\n",
        "plt.figure(figsize=(9,9))\n",
        "plt.imshow(wall_map, cmap=cmap)\n",
        "plt.grid(False)\n",
        "plt.xticks([])\n",
        "plt.yticks([])\n",
        "plt.show\n",
        "\n",
        "obs_1 = observer(wall_map)\n",
        "\n",
        "obs_1.theta = np.pi/4\n",
        "obs_1.update_raycasting()\n",
        "obs_1.plot_screen()\n",
        "\n",
        "obs_1.theta = np.pi/3\n",
        "obs_1.update_raycasting()\n",
        "obs_1.plot_screen()\n",
        "\n",
        "obs_1.forward(3)\n",
        "obs_1.update_raycasting()\n",
        "obs_1.plot_screen()\n",
        "\n",
        "obs_1.forward(3)\n",
        "obs_1.update_raycasting()\n",
        "obs_1.plot_screen()\n",
        "\n",
        "obs_1.forward(2)\n",
        "obs_1.theta = np.pi/-8\n",
        "obs_1.update_raycasting()\n",
        "obs_1.plot_screen()"
      ],
      "execution_count": 38,
      "outputs": [
        {
          "output_type": "display_data",
          "data": {
            "image/png": "[encoded data removed]",
            "text/plain": [
              "<Figure size 648x648 with 1 Axes>"
            ]
          },
          "metadata": {
            "tags": []
          }
        },
        {
          "output_type": "display_data",
          "data": {
            "image/png": "[encoded data removed]",
            "text/plain": [
              "<Figure size 648x648 with 1 Axes>"
            ]
          },
          "metadata": {
            "tags": []
          }
        },
        {
          "output_type": "display_data",
          "data": {
            "image/png": "[encoded data removed]",
            "text/plain": [
              "<Figure size 648x648 with 1 Axes>"
            ]
          },
          "metadata": {
            "tags": []
          }
        },
        {
          "output_type": "display_data",
          "data": {
            "image/png": "[encoded data removed]",
            "text/plain": [
              "<Figure size 648x648 with 1 Axes>"
            ]
          },
          "metadata": {
            "tags": []
          }
        },
        {
          "output_type": "display_data",
          "data": {
            "image/png": "[encoded data removed]",
            "text/plain": [
              "<Figure size 648x648 with 1 Axes>"
            ]
          },
          "metadata": {
            "tags": []
          }
        },
        {
          "output_type": "display_data",
          "data": {
            "image/png": "[encoded data removed]",
            "text/plain": [
              "<Figure size 648x648 with 1 Axes>"
            ]
          },
          "metadata": {
            "tags": []
          }
        }
      ]
    }
  ]
}